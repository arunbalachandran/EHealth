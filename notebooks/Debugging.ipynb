{
    "metadata": {
        "kernelspec": {
            "name": "SQL",
            "display_name": "SQL",
            "language": "sql"
        },
        "language_info": {
            "name": "sql",
            "version": ""
        }
    },
    "nbformat_minor": 2,
    "nbformat": 4,
    "cells": [
        {
            "cell_type": "markdown",
            "source": [
                "## Ehealth Data"
            ],
            "metadata": {
                "azdata_cell_guid": "0ae513b1-dbe5-4e44-bdea-8980a2334767"
            }
        },
        {
            "cell_type": "markdown",
            "source": [
                "### Doctor Data"
            ],
            "metadata": {
                "azdata_cell_guid": "0c6f9bb8-ea2d-48c9-9d0c-763fd1f9be79"
            }
        },
        {
            "cell_type": "code",
            "source": [
                "SELECT * FROM login_doc;\r\n",
                "\r\n",
                "SELECT * FROM login_doc WHERE email = 'arun@example.com' AND pwd = 'abcd1234';"
            ],
            "metadata": {
                "azdata_cell_guid": "dfd4581e-df6b-4223-a59f-240e316cdfac"
            },
            "outputs": [
                {
                    "output_type": "display_data",
                    "data": {
                        "text/html": "(1 row(s) affected)"
                    },
                    "metadata": {}
                },
                {
                    "output_type": "display_data",
                    "data": {
                        "text/html": "(1 row(s) affected)"
                    },
                    "metadata": {}
                },
                {
                    "output_type": "display_data",
                    "data": {
                        "text/html": "Total execution time: 00:00:00.010"
                    },
                    "metadata": {}
                },
                {
                    "output_type": "execute_result",
                    "metadata": {},
                    "execution_count": 3,
                    "data": {
                        "application/vnd.dataresource+json": {
                            "schema": {
                                "fields": [
                                    {
                                        "name": "uname"
                                    },
                                    {
                                        "name": "email"
                                    },
                                    {
                                        "name": "pwd"
                                    },
                                    {
                                        "name": "dep"
                                    }
                                ]
                            },
                            "data": [
                                {
                                    "0": "Arun",
                                    "1": "arun@example.com",
                                    "2": "abcd1234",
                                    "3": "Nephrology"
                                }
                            ]
                        },
                        "text/html": [
                            "<table>",
                            "<tr><th>uname</th><th>email</th><th>pwd</th><th>dep</th></tr>",
                            "<tr><td>Arun</td><td>arun@example.com</td><td>abcd1234</td><td>Nephrology</td></tr>",
                            "</table>"
                        ]
                    }
                },
                {
                    "output_type": "execute_result",
                    "metadata": {},
                    "execution_count": 3,
                    "data": {
                        "application/vnd.dataresource+json": {
                            "schema": {
                                "fields": [
                                    {
                                        "name": "uname"
                                    },
                                    {
                                        "name": "email"
                                    },
                                    {
                                        "name": "pwd"
                                    },
                                    {
                                        "name": "dep"
                                    }
                                ]
                            },
                            "data": [
                                {
                                    "0": "Arun",
                                    "1": "arun@example.com",
                                    "2": "abcd1234",
                                    "3": "Nephrology"
                                }
                            ]
                        },
                        "text/html": [
                            "<table>",
                            "<tr><th>uname</th><th>email</th><th>pwd</th><th>dep</th></tr>",
                            "<tr><td>Arun</td><td>arun@example.com</td><td>abcd1234</td><td>Nephrology</td></tr>",
                            "</table>"
                        ]
                    }
                }
            ],
            "execution_count": 3
        }
    ]
}